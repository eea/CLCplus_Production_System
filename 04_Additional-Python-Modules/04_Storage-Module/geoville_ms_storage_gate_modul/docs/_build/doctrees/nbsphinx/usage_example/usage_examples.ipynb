{
 "cells": [
  {
   "cell_type": "markdown",
   "metadata": {},
   "source": [
    "# Usage examples"
   ]
  },
  {
   "cell_type": "code",
   "execution_count": 1,
   "metadata": {},
   "outputs": [],
   "source": [
    "# Standard and third party modules\n",
    "import os\n",
    "import sys\n",
    "import numpy as np\n",
    "import geopandas as gpd\n",
    "import matplotlib.pyplot as plt\n",
    "from shapely.geometry.polygon import Polygon\n",
    "from matplotlib.colors import ListedColormap\n",
    "\n",
    "# GeoVille Storage Gate\n",
    "sys.path.append(\"../..\")\n",
    "from geoville_storage_gate.vector import *"
   ]
  },
  {
   "cell_type": "markdown",
   "metadata": {},
   "source": [
    "## Vector"
   ]
  },
  {
   "cell_type": "markdown",
   "metadata": {},
   "source": [
    "One part of the GeoVille Storage Gate handles the reading and writing of vector data.  \n",
    "Let's read an example vector file with some polygons first."
   ]
  },
  {
   "cell_type": "code",
   "execution_count": 2,
   "metadata": {},
   "outputs": [
    {
     "data": {
      "image/png": "[encoded data removed]",
      "text/plain": [
       "<Figure size 720x720 with 1 Axes>"
      ]
     },
     "metadata": {
      "needs_background": "light"
     },
     "output_type": "display_data"
    }
   ],
   "source": [
    "test_vector_path = \"/home/schmid/Repos/geoville_ms_storage_gate_modul/tests/data/test_vector.shp\"\n",
    "test_vector_geodataframe = gpd.read_file(test_vector_path)\n",
    "\n",
    "cmap = cmap = ListedColormap(np.random.rand(256,3))\n",
    "ax = test_vector_geodataframe.plot(column='TileID', \n",
    "                                   cmap=cmap, \n",
    "                                   figsize=(10, 10))\n",
    "ax.set_axis_off()"
   ]
  },
  {
   "cell_type": "markdown",
   "metadata": {},
   "source": [
    "Now that we have an example vector dataset, let's create a netCDF file and write that data into it."
   ]
  },
  {
   "cell_type": "code",
   "execution_count": 3,
   "metadata": {},
   "outputs": [],
   "source": [
    "ncdf_output_path = \"/home/schmid/Desktop/vector_example.nc\"\n",
    "\n",
    "if os.path.exists(ncdf_output_path):\n",
    "    os.remove(ncdf_output_path)"
   ]
  },
  {
   "cell_type": "markdown",
   "metadata": {},
   "source": [
    "First we need to use ``create_by_group``, because the netCDF file does not exist yet.  \n",
    "We need to provide the geodataframe, the netCDF output path, the name of the group which will be created and in which the vector will lie as well as a dictionary with metadata. The metadata needs to contain the correct Coordinate Reference System (CRS)."
   ]
  },
  {
   "cell_type": "code",
   "execution_count": 4,
   "metadata": {},
   "outputs": [],
   "source": [
    "create_by_group(test_vector_geodataframe, \n",
    "                 ncdf_output_path, \n",
    "                 \"test_vector_group\",\n",
    "                 {\"crs\": test_vector_geodataframe.crs})"
   ]
  },
  {
   "cell_type": "markdown",
   "metadata": {},
   "source": [
    "Now that we created a netCDF file with an initial group, we can also read out that group into a geodataframe."
   ]
  },
  {
   "cell_type": "code",
   "execution_count": 5,
   "metadata": {},
   "outputs": [
    {
     "data": {
      "image/png": "[encoded data removed]",
      "text/plain": [
       "<Figure size 720x720 with 1 Axes>"
      ]
     },
     "metadata": {
      "needs_background": "light"
     },
     "output_type": "display_data"
    }
   ],
   "source": [
    "created_geodataframe = read_by_group(ncdf_output_path,\n",
    "                                     \"test_vector_group\")\n",
    "\n",
    "ax = created_geodataframe.plot(column='TileID', \n",
    "                               cmap=cmap, \n",
    "                               figsize=(10, 10))\n",
    "ax.set_axis_off()"
   ]
  },
  {
   "cell_type": "markdown",
   "metadata": {},
   "source": [
    "So now we want to update features that meet certain criteria using a query.  \n",
    "The function ``update_by_attribute`` does that by taking a look at all existing groups within the given netCDF file.  \n",
    "In the following example, we update all features who's 'TileID' equals 'E09N54' with an empty geometry.\n",
    "Features within netCDF files cannot be deleted, so we do so by updating the geometry with an empty one.\n",
    "A cleaning job, that will be run once in a while, will get rid of empty geometries."
   ]
  },
  {
   "cell_type": "code",
   "execution_count": 6,
   "metadata": {},
   "outputs": [],
   "source": [
    "update_by_attribute(ncdf_output_path, \n",
    "                    'TileID', \n",
    "                    \"E09N54\", \n",
    "                    'geometry', \n",
    "                    wkt.dumps(Polygon([])), \n",
    "                    query='=')"
   ]
  },
  {
   "cell_type": "markdown",
   "metadata": {},
   "source": [
    "Let's read the entire netCDF group again!"
   ]
  },
  {
   "cell_type": "code",
   "execution_count": 7,
   "metadata": {},
   "outputs": [
    {
     "data": {
      "image/png": "[encoded data removed]",
      "text/plain": [
       "<Figure size 720x720 with 1 Axes>"
      ]
     },
     "metadata": {
      "needs_background": "light"
     },
     "output_type": "display_data"
    }
   ],
   "source": [
    "created_geodataframe = read_by_group(ncdf_output_path,\n",
    "                                     \"test_vector_group\")\n",
    "\n",
    "ax = created_geodataframe.plot(column='TileID', \n",
    "                               cmap=cmap, \n",
    "                               figsize=(10, 10))\n",
    "ax.set_axis_off()"
   ]
  },
  {
   "cell_type": "markdown",
   "metadata": {},
   "source": [
    "We see that the top left polygon disappeared.  \n",
    "Moreover, when reading the attribute table of the updated dataset, the empty geometry is not visible anymore."
   ]
  },
  {
   "cell_type": "code",
   "execution_count": 8,
   "metadata": {},
   "outputs": [
    {
     "data": {
      "text/html": [
       "<div>\n",
       "<style scoped>\n",
       "    .dataframe tbody tr th:only-of-type {\n",
       "        vertical-align: middle;\n",
       "    }\n",
       "\n",
       "    .dataframe tbody tr th {\n",
       "        vertical-align: top;\n",
       "    }\n",
       "\n",
       "    .dataframe thead th {\n",
       "        text-align: right;\n",
       "    }\n",
       "</style>\n",
       "<table border=\"1\" class=\"dataframe\">\n",
       "  <thead>\n",
       "    <tr style=\"text-align: right;\">\n",
       "      <th></th>\n",
       "      <th>left</th>\n",
       "      <th>top</th>\n",
       "      <th>right</th>\n",
       "      <th>bottom</th>\n",
       "      <th>TileID</th>\n",
       "      <th>geometry</th>\n",
       "    </tr>\n",
       "  </thead>\n",
       "  <tbody>\n",
       "    <tr>\n",
       "      <th>1</th>\n",
       "      <td>98900.0</td>\n",
       "      <td>547300.0</td>\n",
       "      <td>188900.0</td>\n",
       "      <td>457300.0</td>\n",
       "      <td>E09N45</td>\n",
       "      <td>POLYGON ((98900.000 547300.000, 188900.000 547...</td>\n",
       "    </tr>\n",
       "    <tr>\n",
       "      <th>2</th>\n",
       "      <td>98900.0</td>\n",
       "      <td>457300.0</td>\n",
       "      <td>188900.0</td>\n",
       "      <td>367300.0</td>\n",
       "      <td>E09N36</td>\n",
       "      <td>POLYGON ((98900.000 457300.000, 188900.000 457...</td>\n",
       "    </tr>\n",
       "    <tr>\n",
       "      <th>3</th>\n",
       "      <td>98900.0</td>\n",
       "      <td>367300.0</td>\n",
       "      <td>188900.0</td>\n",
       "      <td>277300.0</td>\n",
       "      <td>E09N27</td>\n",
       "      <td>POLYGON ((98900.000 367300.000, 188900.000 367...</td>\n",
       "    </tr>\n",
       "    <tr>\n",
       "      <th>4</th>\n",
       "      <td>98900.0</td>\n",
       "      <td>277300.0</td>\n",
       "      <td>188900.0</td>\n",
       "      <td>187300.0</td>\n",
       "      <td>E09N18</td>\n",
       "      <td>POLYGON ((98900.000 277300.000, 188900.000 277...</td>\n",
       "    </tr>\n",
       "    <tr>\n",
       "      <th>5</th>\n",
       "      <td>188900.0</td>\n",
       "      <td>637300.0</td>\n",
       "      <td>278900.0</td>\n",
       "      <td>547300.0</td>\n",
       "      <td>E18N54</td>\n",
       "      <td>POLYGON ((188900.000 637300.000, 278900.000 63...</td>\n",
       "    </tr>\n",
       "    <tr>\n",
       "      <th>6</th>\n",
       "      <td>188900.0</td>\n",
       "      <td>547300.0</td>\n",
       "      <td>278900.0</td>\n",
       "      <td>457300.0</td>\n",
       "      <td>E18N45</td>\n",
       "      <td>POLYGON ((188900.000 547300.000, 278900.000 54...</td>\n",
       "    </tr>\n",
       "    <tr>\n",
       "      <th>7</th>\n",
       "      <td>188900.0</td>\n",
       "      <td>457300.0</td>\n",
       "      <td>278900.0</td>\n",
       "      <td>367300.0</td>\n",
       "      <td>E18N36</td>\n",
       "      <td>POLYGON ((188900.000 457300.000, 278900.000 45...</td>\n",
       "    </tr>\n",
       "    <tr>\n",
       "      <th>8</th>\n",
       "      <td>188900.0</td>\n",
       "      <td>367300.0</td>\n",
       "      <td>278900.0</td>\n",
       "      <td>277300.0</td>\n",
       "      <td>E18N27</td>\n",
       "      <td>POLYGON ((188900.000 367300.000, 278900.000 36...</td>\n",
       "    </tr>\n",
       "    <tr>\n",
       "      <th>9</th>\n",
       "      <td>188900.0</td>\n",
       "      <td>277300.0</td>\n",
       "      <td>278900.0</td>\n",
       "      <td>187300.0</td>\n",
       "      <td>E18N18</td>\n",
       "      <td>POLYGON ((188900.000 277300.000, 278900.000 27...</td>\n",
       "    </tr>\n",
       "    <tr>\n",
       "      <th>10</th>\n",
       "      <td>278900.0</td>\n",
       "      <td>637300.0</td>\n",
       "      <td>368900.0</td>\n",
       "      <td>547300.0</td>\n",
       "      <td>E27N54</td>\n",
       "      <td>POLYGON ((278900.000 637300.000, 368900.000 63...</td>\n",
       "    </tr>\n",
       "    <tr>\n",
       "      <th>11</th>\n",
       "      <td>278900.0</td>\n",
       "      <td>547300.0</td>\n",
       "      <td>368900.0</td>\n",
       "      <td>457300.0</td>\n",
       "      <td>E27N45</td>\n",
       "      <td>POLYGON ((278900.000 547300.000, 368900.000 54...</td>\n",
       "    </tr>\n",
       "    <tr>\n",
       "      <th>12</th>\n",
       "      <td>278900.0</td>\n",
       "      <td>457300.0</td>\n",
       "      <td>368900.0</td>\n",
       "      <td>367300.0</td>\n",
       "      <td>E27N36</td>\n",
       "      <td>POLYGON ((278900.000 457300.000, 368900.000 45...</td>\n",
       "    </tr>\n",
       "    <tr>\n",
       "      <th>13</th>\n",
       "      <td>278900.0</td>\n",
       "      <td>367300.0</td>\n",
       "      <td>368900.0</td>\n",
       "      <td>277300.0</td>\n",
       "      <td>E27N27</td>\n",
       "      <td>POLYGON ((278900.000 367300.000, 368900.000 36...</td>\n",
       "    </tr>\n",
       "    <tr>\n",
       "      <th>14</th>\n",
       "      <td>278900.0</td>\n",
       "      <td>277300.0</td>\n",
       "      <td>368900.0</td>\n",
       "      <td>187300.0</td>\n",
       "      <td>E27N18</td>\n",
       "      <td>POLYGON ((278900.000 277300.000, 368900.000 27...</td>\n",
       "    </tr>\n",
       "    <tr>\n",
       "      <th>15</th>\n",
       "      <td>368900.0</td>\n",
       "      <td>547300.0</td>\n",
       "      <td>458900.0</td>\n",
       "      <td>457300.0</td>\n",
       "      <td>E36N45</td>\n",
       "      <td>POLYGON ((368900.000 547300.000, 458900.000 54...</td>\n",
       "    </tr>\n",
       "    <tr>\n",
       "      <th>16</th>\n",
       "      <td>368900.0</td>\n",
       "      <td>457300.0</td>\n",
       "      <td>458900.0</td>\n",
       "      <td>367300.0</td>\n",
       "      <td>E36N36</td>\n",
       "      <td>POLYGON ((368900.000 457300.000, 458900.000 45...</td>\n",
       "    </tr>\n",
       "  </tbody>\n",
       "</table>\n",
       "</div>"
      ],
      "text/plain": [
       "        left       top     right    bottom  TileID  \\\n",
       "1    98900.0  547300.0  188900.0  457300.0  E09N45   \n",
       "2    98900.0  457300.0  188900.0  367300.0  E09N36   \n",
       "3    98900.0  367300.0  188900.0  277300.0  E09N27   \n",
       "4    98900.0  277300.0  188900.0  187300.0  E09N18   \n",
       "5   188900.0  637300.0  278900.0  547300.0  E18N54   \n",
       "6   188900.0  547300.0  278900.0  457300.0  E18N45   \n",
       "7   188900.0  457300.0  278900.0  367300.0  E18N36   \n",
       "8   188900.0  367300.0  278900.0  277300.0  E18N27   \n",
       "9   188900.0  277300.0  278900.0  187300.0  E18N18   \n",
       "10  278900.0  637300.0  368900.0  547300.0  E27N54   \n",
       "11  278900.0  547300.0  368900.0  457300.0  E27N45   \n",
       "12  278900.0  457300.0  368900.0  367300.0  E27N36   \n",
       "13  278900.0  367300.0  368900.0  277300.0  E27N27   \n",
       "14  278900.0  277300.0  368900.0  187300.0  E27N18   \n",
       "15  368900.0  547300.0  458900.0  457300.0  E36N45   \n",
       "16  368900.0  457300.0  458900.0  367300.0  E36N36   \n",
       "\n",
       "                                             geometry  \n",
       "1   POLYGON ((98900.000 547300.000, 188900.000 547...  \n",
       "2   POLYGON ((98900.000 457300.000, 188900.000 457...  \n",
       "3   POLYGON ((98900.000 367300.000, 188900.000 367...  \n",
       "4   POLYGON ((98900.000 277300.000, 188900.000 277...  \n",
       "5   POLYGON ((188900.000 637300.000, 278900.000 63...  \n",
       "6   POLYGON ((188900.000 547300.000, 278900.000 54...  \n",
       "7   POLYGON ((188900.000 457300.000, 278900.000 45...  \n",
       "8   POLYGON ((188900.000 367300.000, 278900.000 36...  \n",
       "9   POLYGON ((188900.000 277300.000, 278900.000 27...  \n",
       "10  POLYGON ((278900.000 637300.000, 368900.000 63...  \n",
       "11  POLYGON ((278900.000 547300.000, 368900.000 54...  \n",
       "12  POLYGON ((278900.000 457300.000, 368900.000 45...  \n",
       "13  POLYGON ((278900.000 367300.000, 368900.000 36...  \n",
       "14  POLYGON ((278900.000 277300.000, 368900.000 27...  \n",
       "15  POLYGON ((368900.000 547300.000, 458900.000 54...  \n",
       "16  POLYGON ((368900.000 457300.000, 458900.000 45...  "
      ]
     },
     "execution_count": 8,
     "metadata": {},
     "output_type": "execute_result"
    }
   ],
   "source": [
    "created_geodataframe"
   ]
  },
  {
   "cell_type": "markdown",
   "metadata": {},
   "source": [
    "Besides updating features using a query, we can also \"upsert\" the vector data within a netCDF file.  \n",
    "Upserting is an operation that inserts features into a netCDF file if their geometry do not already exist, or updates them if they do.  \n",
    "  \n",
    "We will begin with ``upsert_by_bounds``. This function upserts all features of a given geodataframe that have a given relation to the provided boundary.  \n",
    "In the following example, we update the netCDF file with the newly read update vector. All features of \"update_geodataframe\" will be written into \"ncdf_output_path\" that \"intersect\" the given bounds (shapely polygon).  \n",
    "  \n",
    "The function will upsert each netCDF group separately, in case the bounds intersects more than one group.\n",
    "Hence, only the features that fall within the bounds and a group will be upserted to that group."
   ]
  },
  {
   "cell_type": "code",
   "execution_count": 9,
   "metadata": {},
   "outputs": [
    {
     "data": {
      "image/png": "[encoded data removed]",
      "text/plain": [
       "<Figure size 720x720 with 1 Axes>"
      ]
     },
     "metadata": {
      "needs_background": "light"
     },
     "output_type": "display_data"
    }
   ],
   "source": [
    "update_vector_path = \"/home/schmid/Repos/geoville_ms_storage_gate_modul/tests/data/test_update_vector.shp\"\n",
    "update_geodataframe = gpd.read_file(update_vector_path)\n",
    "ax = update_geodataframe.plot(column='TileID', \n",
    "                              cmap=cmap, \n",
    "                              figsize=(10, 10))\n",
    "ax.set_axis_off()"
   ]
  },
  {
   "cell_type": "code",
   "execution_count": 10,
   "metadata": {},
   "outputs": [
    {
     "data": {
      "text/html": [
       "<div>\n",
       "<style scoped>\n",
       "    .dataframe tbody tr th:only-of-type {\n",
       "        vertical-align: middle;\n",
       "    }\n",
       "\n",
       "    .dataframe tbody tr th {\n",
       "        vertical-align: top;\n",
       "    }\n",
       "\n",
       "    .dataframe thead th {\n",
       "        text-align: right;\n",
       "    }\n",
       "</style>\n",
       "<table border=\"1\" class=\"dataframe\">\n",
       "  <thead>\n",
       "    <tr style=\"text-align: right;\">\n",
       "      <th></th>\n",
       "      <th>left</th>\n",
       "      <th>top</th>\n",
       "      <th>right</th>\n",
       "      <th>bottom</th>\n",
       "      <th>TileID</th>\n",
       "      <th>FID</th>\n",
       "      <th>geometry</th>\n",
       "    </tr>\n",
       "  </thead>\n",
       "  <tbody>\n",
       "    <tr>\n",
       "      <th>0</th>\n",
       "      <td>98900.0</td>\n",
       "      <td>637300.0</td>\n",
       "      <td>188900.0</td>\n",
       "      <td>547300.0</td>\n",
       "      <td>E09N54</td>\n",
       "      <td>1</td>\n",
       "      <td>POLYGON ((98900.000 637300.000, 188900.000 637...</td>\n",
       "    </tr>\n",
       "    <tr>\n",
       "      <th>1</th>\n",
       "      <td>278900.0</td>\n",
       "      <td>457300.0</td>\n",
       "      <td>368900.0</td>\n",
       "      <td>367300.0</td>\n",
       "      <td>E27N36</td>\n",
       "      <td>2</td>\n",
       "      <td>POLYGON ((278900.000 457300.000, 368900.000 45...</td>\n",
       "    </tr>\n",
       "    <tr>\n",
       "      <th>2</th>\n",
       "      <td>1.0</td>\n",
       "      <td>1.0</td>\n",
       "      <td>1.0</td>\n",
       "      <td>1.0</td>\n",
       "      <td>a</td>\n",
       "      <td>3</td>\n",
       "      <td>POLYGON ((6086.354 540089.272, 83425.287 46547...</td>\n",
       "    </tr>\n",
       "    <tr>\n",
       "      <th>3</th>\n",
       "      <td>2.0</td>\n",
       "      <td>2.0</td>\n",
       "      <td>2.0</td>\n",
       "      <td>2.0</td>\n",
       "      <td>b</td>\n",
       "      <td>4</td>\n",
       "      <td>POLYGON ((431792.698 325173.217, 501062.580 25...</td>\n",
       "    </tr>\n",
       "  </tbody>\n",
       "</table>\n",
       "</div>"
      ],
      "text/plain": [
       "       left       top     right    bottom  TileID  FID  \\\n",
       "0   98900.0  637300.0  188900.0  547300.0  E09N54    1   \n",
       "1  278900.0  457300.0  368900.0  367300.0  E27N36    2   \n",
       "2       1.0       1.0       1.0       1.0       a    3   \n",
       "3       2.0       2.0       2.0       2.0       b    4   \n",
       "\n",
       "                                            geometry  \n",
       "0  POLYGON ((98900.000 637300.000, 188900.000 637...  \n",
       "1  POLYGON ((278900.000 457300.000, 368900.000 45...  \n",
       "2  POLYGON ((6086.354 540089.272, 83425.287 46547...  \n",
       "3  POLYGON ((431792.698 325173.217, 501062.580 25...  "
      ]
     },
     "execution_count": 10,
     "metadata": {},
     "output_type": "execute_result"
    }
   ],
   "source": [
    "update_geodataframe"
   ]
  },
  {
   "cell_type": "markdown",
   "metadata": {},
   "source": [
    "We see that two features of the update-geodataframe are similar to the original example geodataframe.  \n",
    "However, we are only upserting those features that intersect the following boundary."
   ]
  },
  {
   "cell_type": "code",
   "execution_count": 11,
   "metadata": {},
   "outputs": [
    {
     "data": {
      "image/png": "[encoded data removed]",
      "text/plain": [
       "<Figure size 720x720 with 1 Axes>"
      ]
     },
     "metadata": {
      "needs_background": "light"
     },
     "output_type": "display_data"
    }
   ],
   "source": [
    "polygon_as_geodataframe = gpd.GeoDataFrame(gpd.GeoSeries(Polygon([[171294, 509586],\n",
    "                                                                  [408599, 513476],\n",
    "                                                                  [308101, 224301],\n",
    "                                                                  [132392, 336470]])), columns=['geometry'])\n",
    "f, ax = plt.subplots(figsize=(10, 10))\n",
    "update_geodataframe.plot(column='TileID', \n",
    "                         cmap=cmap, \n",
    "                         figsize=(10, 10),\n",
    "                         ax=ax)\n",
    "\n",
    "polygon_as_geodataframe.boundary.plot(ax=ax)\n",
    "ax.set_axis_off()"
   ]
  },
  {
   "cell_type": "code",
   "execution_count": 12,
   "metadata": {},
   "outputs": [],
   "source": [
    "upsert_by_bounds(update_geodataframe, \n",
    "                 ncdf_output_path,\n",
    "                 Polygon([[171294, 509586],\n",
    "                          [408599, 513476],\n",
    "                          [308101, 224301],\n",
    "                          [132392, 336470]]), \n",
    "                 \"intersects\")"
   ]
  },
  {
   "cell_type": "markdown",
   "metadata": {},
   "source": [
    "Due to the fact that the geometry of the only polygon we upsert already exists, the feature will get updated.  \n",
    "We can simply check that by reading the netCDF group again and check the attribute table.  \n",
    "The updated-geodataframe has the new column \"FID\"."
   ]
  },
  {
   "cell_type": "code",
   "execution_count": 13,
   "metadata": {},
   "outputs": [
    {
     "data": {
      "image/png": "[encoded data removed]",
      "text/plain": [
       "<Figure size 720x720 with 1 Axes>"
      ]
     },
     "metadata": {
      "needs_background": "light"
     },
     "output_type": "display_data"
    }
   ],
   "source": [
    "created_geodataframe = read_by_group(ncdf_output_path, \n",
    "                                     \"test_vector_group\")\n",
    "\n",
    "ax = created_geodataframe.plot(column='TileID', \n",
    "                               cmap=cmap, \n",
    "                               figsize=(10, 10))\n",
    "ax.set_axis_off()"
   ]
  },
  {
   "cell_type": "code",
   "execution_count": 14,
   "metadata": {},
   "outputs": [
    {
     "data": {
      "text/html": [
       "<div>\n",
       "<style scoped>\n",
       "    .dataframe tbody tr th:only-of-type {\n",
       "        vertical-align: middle;\n",
       "    }\n",
       "\n",
       "    .dataframe tbody tr th {\n",
       "        vertical-align: top;\n",
       "    }\n",
       "\n",
       "    .dataframe thead th {\n",
       "        text-align: right;\n",
       "    }\n",
       "</style>\n",
       "<table border=\"1\" class=\"dataframe\">\n",
       "  <thead>\n",
       "    <tr style=\"text-align: right;\">\n",
       "      <th></th>\n",
       "      <th>left</th>\n",
       "      <th>top</th>\n",
       "      <th>right</th>\n",
       "      <th>bottom</th>\n",
       "      <th>TileID</th>\n",
       "      <th>geometry</th>\n",
       "      <th>FID</th>\n",
       "    </tr>\n",
       "  </thead>\n",
       "  <tbody>\n",
       "    <tr>\n",
       "      <th>1</th>\n",
       "      <td>98900.0</td>\n",
       "      <td>547300.0</td>\n",
       "      <td>188900.0</td>\n",
       "      <td>457300.0</td>\n",
       "      <td>E09N45</td>\n",
       "      <td>POLYGON ((98900.000 547300.000, 188900.000 547...</td>\n",
       "      <td>-9223372036854775806</td>\n",
       "    </tr>\n",
       "    <tr>\n",
       "      <th>2</th>\n",
       "      <td>98900.0</td>\n",
       "      <td>457300.0</td>\n",
       "      <td>188900.0</td>\n",
       "      <td>367300.0</td>\n",
       "      <td>E09N36</td>\n",
       "      <td>POLYGON ((98900.000 457300.000, 188900.000 457...</td>\n",
       "      <td>-9223372036854775806</td>\n",
       "    </tr>\n",
       "    <tr>\n",
       "      <th>3</th>\n",
       "      <td>98900.0</td>\n",
       "      <td>367300.0</td>\n",
       "      <td>188900.0</td>\n",
       "      <td>277300.0</td>\n",
       "      <td>E09N27</td>\n",
       "      <td>POLYGON ((98900.000 367300.000, 188900.000 367...</td>\n",
       "      <td>-9223372036854775806</td>\n",
       "    </tr>\n",
       "    <tr>\n",
       "      <th>4</th>\n",
       "      <td>98900.0</td>\n",
       "      <td>277300.0</td>\n",
       "      <td>188900.0</td>\n",
       "      <td>187300.0</td>\n",
       "      <td>E09N18</td>\n",
       "      <td>POLYGON ((98900.000 277300.000, 188900.000 277...</td>\n",
       "      <td>-9223372036854775806</td>\n",
       "    </tr>\n",
       "    <tr>\n",
       "      <th>5</th>\n",
       "      <td>188900.0</td>\n",
       "      <td>637300.0</td>\n",
       "      <td>278900.0</td>\n",
       "      <td>547300.0</td>\n",
       "      <td>E18N54</td>\n",
       "      <td>POLYGON ((188900.000 637300.000, 278900.000 63...</td>\n",
       "      <td>-9223372036854775806</td>\n",
       "    </tr>\n",
       "    <tr>\n",
       "      <th>6</th>\n",
       "      <td>188900.0</td>\n",
       "      <td>547300.0</td>\n",
       "      <td>278900.0</td>\n",
       "      <td>457300.0</td>\n",
       "      <td>E18N45</td>\n",
       "      <td>POLYGON ((188900.000 547300.000, 278900.000 54...</td>\n",
       "      <td>-9223372036854775806</td>\n",
       "    </tr>\n",
       "    <tr>\n",
       "      <th>7</th>\n",
       "      <td>188900.0</td>\n",
       "      <td>457300.0</td>\n",
       "      <td>278900.0</td>\n",
       "      <td>367300.0</td>\n",
       "      <td>E18N36</td>\n",
       "      <td>POLYGON ((188900.000 457300.000, 278900.000 45...</td>\n",
       "      <td>-9223372036854775806</td>\n",
       "    </tr>\n",
       "    <tr>\n",
       "      <th>8</th>\n",
       "      <td>188900.0</td>\n",
       "      <td>367300.0</td>\n",
       "      <td>278900.0</td>\n",
       "      <td>277300.0</td>\n",
       "      <td>E18N27</td>\n",
       "      <td>POLYGON ((188900.000 367300.000, 278900.000 36...</td>\n",
       "      <td>-9223372036854775806</td>\n",
       "    </tr>\n",
       "    <tr>\n",
       "      <th>9</th>\n",
       "      <td>188900.0</td>\n",
       "      <td>277300.0</td>\n",
       "      <td>278900.0</td>\n",
       "      <td>187300.0</td>\n",
       "      <td>E18N18</td>\n",
       "      <td>POLYGON ((188900.000 277300.000, 278900.000 27...</td>\n",
       "      <td>-9223372036854775806</td>\n",
       "    </tr>\n",
       "    <tr>\n",
       "      <th>10</th>\n",
       "      <td>278900.0</td>\n",
       "      <td>637300.0</td>\n",
       "      <td>368900.0</td>\n",
       "      <td>547300.0</td>\n",
       "      <td>E27N54</td>\n",
       "      <td>POLYGON ((278900.000 637300.000, 368900.000 63...</td>\n",
       "      <td>-9223372036854775806</td>\n",
       "    </tr>\n",
       "    <tr>\n",
       "      <th>11</th>\n",
       "      <td>278900.0</td>\n",
       "      <td>547300.0</td>\n",
       "      <td>368900.0</td>\n",
       "      <td>457300.0</td>\n",
       "      <td>E27N45</td>\n",
       "      <td>POLYGON ((278900.000 547300.000, 368900.000 54...</td>\n",
       "      <td>-9223372036854775806</td>\n",
       "    </tr>\n",
       "    <tr>\n",
       "      <th>12</th>\n",
       "      <td>278900.0</td>\n",
       "      <td>457300.0</td>\n",
       "      <td>368900.0</td>\n",
       "      <td>367300.0</td>\n",
       "      <td>E27N36</td>\n",
       "      <td>POLYGON ((278900.000 457300.000, 368900.000 45...</td>\n",
       "      <td>2</td>\n",
       "    </tr>\n",
       "    <tr>\n",
       "      <th>13</th>\n",
       "      <td>278900.0</td>\n",
       "      <td>367300.0</td>\n",
       "      <td>368900.0</td>\n",
       "      <td>277300.0</td>\n",
       "      <td>E27N27</td>\n",
       "      <td>POLYGON ((278900.000 367300.000, 368900.000 36...</td>\n",
       "      <td>-9223372036854775806</td>\n",
       "    </tr>\n",
       "    <tr>\n",
       "      <th>14</th>\n",
       "      <td>278900.0</td>\n",
       "      <td>277300.0</td>\n",
       "      <td>368900.0</td>\n",
       "      <td>187300.0</td>\n",
       "      <td>E27N18</td>\n",
       "      <td>POLYGON ((278900.000 277300.000, 368900.000 27...</td>\n",
       "      <td>-9223372036854775806</td>\n",
       "    </tr>\n",
       "    <tr>\n",
       "      <th>15</th>\n",
       "      <td>368900.0</td>\n",
       "      <td>547300.0</td>\n",
       "      <td>458900.0</td>\n",
       "      <td>457300.0</td>\n",
       "      <td>E36N45</td>\n",
       "      <td>POLYGON ((368900.000 547300.000, 458900.000 54...</td>\n",
       "      <td>-9223372036854775806</td>\n",
       "    </tr>\n",
       "    <tr>\n",
       "      <th>16</th>\n",
       "      <td>368900.0</td>\n",
       "      <td>457300.0</td>\n",
       "      <td>458900.0</td>\n",
       "      <td>367300.0</td>\n",
       "      <td>E36N36</td>\n",
       "      <td>POLYGON ((368900.000 457300.000, 458900.000 45...</td>\n",
       "      <td>-9223372036854775806</td>\n",
       "    </tr>\n",
       "  </tbody>\n",
       "</table>\n",
       "</div>"
      ],
      "text/plain": [
       "        left       top     right    bottom  TileID  \\\n",
       "1    98900.0  547300.0  188900.0  457300.0  E09N45   \n",
       "2    98900.0  457300.0  188900.0  367300.0  E09N36   \n",
       "3    98900.0  367300.0  188900.0  277300.0  E09N27   \n",
       "4    98900.0  277300.0  188900.0  187300.0  E09N18   \n",
       "5   188900.0  637300.0  278900.0  547300.0  E18N54   \n",
       "6   188900.0  547300.0  278900.0  457300.0  E18N45   \n",
       "7   188900.0  457300.0  278900.0  367300.0  E18N36   \n",
       "8   188900.0  367300.0  278900.0  277300.0  E18N27   \n",
       "9   188900.0  277300.0  278900.0  187300.0  E18N18   \n",
       "10  278900.0  637300.0  368900.0  547300.0  E27N54   \n",
       "11  278900.0  547300.0  368900.0  457300.0  E27N45   \n",
       "12  278900.0  457300.0  368900.0  367300.0  E27N36   \n",
       "13  278900.0  367300.0  368900.0  277300.0  E27N27   \n",
       "14  278900.0  277300.0  368900.0  187300.0  E27N18   \n",
       "15  368900.0  547300.0  458900.0  457300.0  E36N45   \n",
       "16  368900.0  457300.0  458900.0  367300.0  E36N36   \n",
       "\n",
       "                                             geometry                  FID  \n",
       "1   POLYGON ((98900.000 547300.000, 188900.000 547... -9223372036854775806  \n",
       "2   POLYGON ((98900.000 457300.000, 188900.000 457... -9223372036854775806  \n",
       "3   POLYGON ((98900.000 367300.000, 188900.000 367... -9223372036854775806  \n",
       "4   POLYGON ((98900.000 277300.000, 188900.000 277... -9223372036854775806  \n",
       "5   POLYGON ((188900.000 637300.000, 278900.000 63... -9223372036854775806  \n",
       "6   POLYGON ((188900.000 547300.000, 278900.000 54... -9223372036854775806  \n",
       "7   POLYGON ((188900.000 457300.000, 278900.000 45... -9223372036854775806  \n",
       "8   POLYGON ((188900.000 367300.000, 278900.000 36... -9223372036854775806  \n",
       "9   POLYGON ((188900.000 277300.000, 278900.000 27... -9223372036854775806  \n",
       "10  POLYGON ((278900.000 637300.000, 368900.000 63... -9223372036854775806  \n",
       "11  POLYGON ((278900.000 547300.000, 368900.000 54... -9223372036854775806  \n",
       "12  POLYGON ((278900.000 457300.000, 368900.000 45...                    2  \n",
       "13  POLYGON ((278900.000 367300.000, 368900.000 36... -9223372036854775806  \n",
       "14  POLYGON ((278900.000 277300.000, 368900.000 27... -9223372036854775806  \n",
       "15  POLYGON ((368900.000 547300.000, 458900.000 54... -9223372036854775806  \n",
       "16  POLYGON ((368900.000 457300.000, 458900.000 45... -9223372036854775806  "
      ]
     },
     "execution_count": 14,
     "metadata": {},
     "output_type": "execute_result"
    }
   ],
   "source": [
    "created_geodataframe"
   ]
  },
  {
   "cell_type": "markdown",
   "metadata": {},
   "source": [
    "We see that we still have 16 features after deleting one.  \n",
    "However, feature number 12 updated, which we can see due to the new attribute \"FID\"."
   ]
  },
  {
   "cell_type": "code",
   "execution_count": 15,
   "metadata": {},
   "outputs": [
    {
     "data": {
      "text/html": [
       "<div>\n",
       "<style scoped>\n",
       "    .dataframe tbody tr th:only-of-type {\n",
       "        vertical-align: middle;\n",
       "    }\n",
       "\n",
       "    .dataframe tbody tr th {\n",
       "        vertical-align: top;\n",
       "    }\n",
       "\n",
       "    .dataframe thead th {\n",
       "        text-align: right;\n",
       "    }\n",
       "</style>\n",
       "<table border=\"1\" class=\"dataframe\">\n",
       "  <thead>\n",
       "    <tr style=\"text-align: right;\">\n",
       "      <th></th>\n",
       "      <th>left</th>\n",
       "      <th>top</th>\n",
       "      <th>right</th>\n",
       "      <th>bottom</th>\n",
       "      <th>TileID</th>\n",
       "      <th>geometry</th>\n",
       "      <th>FID</th>\n",
       "    </tr>\n",
       "  </thead>\n",
       "  <tbody>\n",
       "    <tr>\n",
       "      <th>12</th>\n",
       "      <td>278900.0</td>\n",
       "      <td>457300.0</td>\n",
       "      <td>368900.0</td>\n",
       "      <td>367300.0</td>\n",
       "      <td>E27N36</td>\n",
       "      <td>POLYGON ((278900.000 457300.000, 368900.000 45...</td>\n",
       "      <td>2</td>\n",
       "    </tr>\n",
       "  </tbody>\n",
       "</table>\n",
       "</div>"
      ],
      "text/plain": [
       "        left       top     right    bottom  TileID  \\\n",
       "12  278900.0  457300.0  368900.0  367300.0  E27N36   \n",
       "\n",
       "                                             geometry  FID  \n",
       "12  POLYGON ((278900.000 457300.000, 368900.000 45...    2  "
      ]
     },
     "execution_count": 15,
     "metadata": {},
     "output_type": "execute_result"
    }
   ],
   "source": [
    "created_geodataframe[created_geodataframe[\"TileID\"]==\"E27N36\"]"
   ]
  },
  {
   "cell_type": "markdown",
   "metadata": {},
   "source": [
    "In contrast to ``upsert_by_bounds``, the function ``upsert_by_geodataframe`` uses the entire input geodataframe instead of a subset of it.  \n",
    "Thus, the parameter \"bounds\" is not required here.  \n",
    "  \n",
    "In the following example, we update the vector dataset within the netCDF file with the original geodataframe from the beginning."
   ]
  },
  {
   "cell_type": "code",
   "execution_count": 16,
   "metadata": {},
   "outputs": [],
   "source": [
    "upsert_by_geodataframe(test_vector_geodataframe, \n",
    "                       ncdf_output_path)"
   ]
  },
  {
   "cell_type": "code",
   "execution_count": 17,
   "metadata": {},
   "outputs": [
    {
     "data": {
      "image/png": "[encoded data removed]",
      "text/plain": [
       "<Figure size 720x720 with 1 Axes>"
      ]
     },
     "metadata": {
      "needs_background": "light"
     },
     "output_type": "display_data"
    }
   ],
   "source": [
    "created_geodataframe = read_by_group(ncdf_output_path, \n",
    "                                     \"test_vector_group\")\n",
    "\n",
    "ax = created_geodataframe.plot(column='TileID', \n",
    "                               cmap=cmap, \n",
    "                               figsize=(10, 10))\n",
    "ax.set_axis_off()"
   ]
  },
  {
   "cell_type": "code",
   "execution_count": 18,
   "metadata": {},
   "outputs": [
    {
     "data": {
      "text/html": [
       "<div>\n",
       "<style scoped>\n",
       "    .dataframe tbody tr th:only-of-type {\n",
       "        vertical-align: middle;\n",
       "    }\n",
       "\n",
       "    .dataframe tbody tr th {\n",
       "        vertical-align: top;\n",
       "    }\n",
       "\n",
       "    .dataframe thead th {\n",
       "        text-align: right;\n",
       "    }\n",
       "</style>\n",
       "<table border=\"1\" class=\"dataframe\">\n",
       "  <thead>\n",
       "    <tr style=\"text-align: right;\">\n",
       "      <th></th>\n",
       "      <th>left</th>\n",
       "      <th>top</th>\n",
       "      <th>right</th>\n",
       "      <th>bottom</th>\n",
       "      <th>TileID</th>\n",
       "      <th>geometry</th>\n",
       "      <th>FID</th>\n",
       "    </tr>\n",
       "  </thead>\n",
       "  <tbody>\n",
       "    <tr>\n",
       "      <th>1</th>\n",
       "      <td>98900.0</td>\n",
       "      <td>547300.0</td>\n",
       "      <td>188900.0</td>\n",
       "      <td>457300.0</td>\n",
       "      <td>E09N45</td>\n",
       "      <td>POLYGON ((98900.000 547300.000, 188900.000 547...</td>\n",
       "      <td>-9223372036854775806</td>\n",
       "    </tr>\n",
       "    <tr>\n",
       "      <th>2</th>\n",
       "      <td>98900.0</td>\n",
       "      <td>457300.0</td>\n",
       "      <td>188900.0</td>\n",
       "      <td>367300.0</td>\n",
       "      <td>E09N36</td>\n",
       "      <td>POLYGON ((98900.000 457300.000, 188900.000 457...</td>\n",
       "      <td>-9223372036854775806</td>\n",
       "    </tr>\n",
       "    <tr>\n",
       "      <th>3</th>\n",
       "      <td>98900.0</td>\n",
       "      <td>367300.0</td>\n",
       "      <td>188900.0</td>\n",
       "      <td>277300.0</td>\n",
       "      <td>E09N27</td>\n",
       "      <td>POLYGON ((98900.000 367300.000, 188900.000 367...</td>\n",
       "      <td>-9223372036854775806</td>\n",
       "    </tr>\n",
       "    <tr>\n",
       "      <th>4</th>\n",
       "      <td>98900.0</td>\n",
       "      <td>277300.0</td>\n",
       "      <td>188900.0</td>\n",
       "      <td>187300.0</td>\n",
       "      <td>E09N18</td>\n",
       "      <td>POLYGON ((98900.000 277300.000, 188900.000 277...</td>\n",
       "      <td>-9223372036854775806</td>\n",
       "    </tr>\n",
       "    <tr>\n",
       "      <th>5</th>\n",
       "      <td>188900.0</td>\n",
       "      <td>637300.0</td>\n",
       "      <td>278900.0</td>\n",
       "      <td>547300.0</td>\n",
       "      <td>E18N54</td>\n",
       "      <td>POLYGON ((188900.000 637300.000, 278900.000 63...</td>\n",
       "      <td>-9223372036854775806</td>\n",
       "    </tr>\n",
       "    <tr>\n",
       "      <th>6</th>\n",
       "      <td>188900.0</td>\n",
       "      <td>547300.0</td>\n",
       "      <td>278900.0</td>\n",
       "      <td>457300.0</td>\n",
       "      <td>E18N45</td>\n",
       "      <td>POLYGON ((188900.000 547300.000, 278900.000 54...</td>\n",
       "      <td>-9223372036854775806</td>\n",
       "    </tr>\n",
       "    <tr>\n",
       "      <th>7</th>\n",
       "      <td>188900.0</td>\n",
       "      <td>457300.0</td>\n",
       "      <td>278900.0</td>\n",
       "      <td>367300.0</td>\n",
       "      <td>E18N36</td>\n",
       "      <td>POLYGON ((188900.000 457300.000, 278900.000 45...</td>\n",
       "      <td>-9223372036854775806</td>\n",
       "    </tr>\n",
       "    <tr>\n",
       "      <th>8</th>\n",
       "      <td>188900.0</td>\n",
       "      <td>367300.0</td>\n",
       "      <td>278900.0</td>\n",
       "      <td>277300.0</td>\n",
       "      <td>E18N27</td>\n",
       "      <td>POLYGON ((188900.000 367300.000, 278900.000 36...</td>\n",
       "      <td>-9223372036854775806</td>\n",
       "    </tr>\n",
       "    <tr>\n",
       "      <th>9</th>\n",
       "      <td>188900.0</td>\n",
       "      <td>277300.0</td>\n",
       "      <td>278900.0</td>\n",
       "      <td>187300.0</td>\n",
       "      <td>E18N18</td>\n",
       "      <td>POLYGON ((188900.000 277300.000, 278900.000 27...</td>\n",
       "      <td>-9223372036854775806</td>\n",
       "    </tr>\n",
       "    <tr>\n",
       "      <th>10</th>\n",
       "      <td>278900.0</td>\n",
       "      <td>637300.0</td>\n",
       "      <td>368900.0</td>\n",
       "      <td>547300.0</td>\n",
       "      <td>E27N54</td>\n",
       "      <td>POLYGON ((278900.000 637300.000, 368900.000 63...</td>\n",
       "      <td>-9223372036854775806</td>\n",
       "    </tr>\n",
       "    <tr>\n",
       "      <th>11</th>\n",
       "      <td>278900.0</td>\n",
       "      <td>547300.0</td>\n",
       "      <td>368900.0</td>\n",
       "      <td>457300.0</td>\n",
       "      <td>E27N45</td>\n",
       "      <td>POLYGON ((278900.000 547300.000, 368900.000 54...</td>\n",
       "      <td>-9223372036854775806</td>\n",
       "    </tr>\n",
       "    <tr>\n",
       "      <th>12</th>\n",
       "      <td>278900.0</td>\n",
       "      <td>457300.0</td>\n",
       "      <td>368900.0</td>\n",
       "      <td>367300.0</td>\n",
       "      <td>E27N36</td>\n",
       "      <td>POLYGON ((278900.000 457300.000, 368900.000 45...</td>\n",
       "      <td>2</td>\n",
       "    </tr>\n",
       "    <tr>\n",
       "      <th>13</th>\n",
       "      <td>278900.0</td>\n",
       "      <td>367300.0</td>\n",
       "      <td>368900.0</td>\n",
       "      <td>277300.0</td>\n",
       "      <td>E27N27</td>\n",
       "      <td>POLYGON ((278900.000 367300.000, 368900.000 36...</td>\n",
       "      <td>-9223372036854775806</td>\n",
       "    </tr>\n",
       "    <tr>\n",
       "      <th>14</th>\n",
       "      <td>278900.0</td>\n",
       "      <td>277300.0</td>\n",
       "      <td>368900.0</td>\n",
       "      <td>187300.0</td>\n",
       "      <td>E27N18</td>\n",
       "      <td>POLYGON ((278900.000 277300.000, 368900.000 27...</td>\n",
       "      <td>-9223372036854775806</td>\n",
       "    </tr>\n",
       "    <tr>\n",
       "      <th>15</th>\n",
       "      <td>368900.0</td>\n",
       "      <td>547300.0</td>\n",
       "      <td>458900.0</td>\n",
       "      <td>457300.0</td>\n",
       "      <td>E36N45</td>\n",
       "      <td>POLYGON ((368900.000 547300.000, 458900.000 54...</td>\n",
       "      <td>-9223372036854775806</td>\n",
       "    </tr>\n",
       "    <tr>\n",
       "      <th>16</th>\n",
       "      <td>368900.0</td>\n",
       "      <td>457300.0</td>\n",
       "      <td>458900.0</td>\n",
       "      <td>367300.0</td>\n",
       "      <td>E36N36</td>\n",
       "      <td>POLYGON ((368900.000 457300.000, 458900.000 45...</td>\n",
       "      <td>-9223372036854775806</td>\n",
       "    </tr>\n",
       "    <tr>\n",
       "      <th>17</th>\n",
       "      <td>98900.0</td>\n",
       "      <td>637300.0</td>\n",
       "      <td>188900.0</td>\n",
       "      <td>547300.0</td>\n",
       "      <td>E09N54</td>\n",
       "      <td>POLYGON ((98900.000 637300.000, 188900.000 637...</td>\n",
       "      <td>-9223372036854775806</td>\n",
       "    </tr>\n",
       "  </tbody>\n",
       "</table>\n",
       "</div>"
      ],
      "text/plain": [
       "        left       top     right    bottom  TileID  \\\n",
       "1    98900.0  547300.0  188900.0  457300.0  E09N45   \n",
       "2    98900.0  457300.0  188900.0  367300.0  E09N36   \n",
       "3    98900.0  367300.0  188900.0  277300.0  E09N27   \n",
       "4    98900.0  277300.0  188900.0  187300.0  E09N18   \n",
       "5   188900.0  637300.0  278900.0  547300.0  E18N54   \n",
       "6   188900.0  547300.0  278900.0  457300.0  E18N45   \n",
       "7   188900.0  457300.0  278900.0  367300.0  E18N36   \n",
       "8   188900.0  367300.0  278900.0  277300.0  E18N27   \n",
       "9   188900.0  277300.0  278900.0  187300.0  E18N18   \n",
       "10  278900.0  637300.0  368900.0  547300.0  E27N54   \n",
       "11  278900.0  547300.0  368900.0  457300.0  E27N45   \n",
       "12  278900.0  457300.0  368900.0  367300.0  E27N36   \n",
       "13  278900.0  367300.0  368900.0  277300.0  E27N27   \n",
       "14  278900.0  277300.0  368900.0  187300.0  E27N18   \n",
       "15  368900.0  547300.0  458900.0  457300.0  E36N45   \n",
       "16  368900.0  457300.0  458900.0  367300.0  E36N36   \n",
       "17   98900.0  637300.0  188900.0  547300.0  E09N54   \n",
       "\n",
       "                                             geometry                  FID  \n",
       "1   POLYGON ((98900.000 547300.000, 188900.000 547... -9223372036854775806  \n",
       "2   POLYGON ((98900.000 457300.000, 188900.000 457... -9223372036854775806  \n",
       "3   POLYGON ((98900.000 367300.000, 188900.000 367... -9223372036854775806  \n",
       "4   POLYGON ((98900.000 277300.000, 188900.000 277... -9223372036854775806  \n",
       "5   POLYGON ((188900.000 637300.000, 278900.000 63... -9223372036854775806  \n",
       "6   POLYGON ((188900.000 547300.000, 278900.000 54... -9223372036854775806  \n",
       "7   POLYGON ((188900.000 457300.000, 278900.000 45... -9223372036854775806  \n",
       "8   POLYGON ((188900.000 367300.000, 278900.000 36... -9223372036854775806  \n",
       "9   POLYGON ((188900.000 277300.000, 278900.000 27... -9223372036854775806  \n",
       "10  POLYGON ((278900.000 637300.000, 368900.000 63... -9223372036854775806  \n",
       "11  POLYGON ((278900.000 547300.000, 368900.000 54... -9223372036854775806  \n",
       "12  POLYGON ((278900.000 457300.000, 368900.000 45...                    2  \n",
       "13  POLYGON ((278900.000 367300.000, 368900.000 36... -9223372036854775806  \n",
       "14  POLYGON ((278900.000 277300.000, 368900.000 27... -9223372036854775806  \n",
       "15  POLYGON ((368900.000 547300.000, 458900.000 54... -9223372036854775806  \n",
       "16  POLYGON ((368900.000 457300.000, 458900.000 45... -9223372036854775806  \n",
       "17  POLYGON ((98900.000 637300.000, 188900.000 637... -9223372036854775806  "
      ]
     },
     "execution_count": 18,
     "metadata": {},
     "output_type": "execute_result"
    }
   ],
   "source": [
    "created_geodataframe"
   ]
  },
  {
   "cell_type": "markdown",
   "metadata": {},
   "source": [
    "We see that the newly created column \"FID\" was not removed.  \n",
    "  \n",
    "Finally, we can also ``upsert_by_group``.  \n",
    "Again, we use the update-geodataframe. Let's see what happens."
   ]
  },
  {
   "cell_type": "code",
   "execution_count": 19,
   "metadata": {},
   "outputs": [],
   "source": [
    "upsert_by_group(update_geodataframe, \n",
    "             ncdf_output_path,\n",
    "             \"test_vector_group\")"
   ]
  },
  {
   "cell_type": "code",
   "execution_count": 20,
   "metadata": {},
   "outputs": [
    {
     "data": {
      "image/png": "[encoded data removed]",
      "text/plain": [
       "<Figure size 720x720 with 1 Axes>"
      ]
     },
     "metadata": {
      "needs_background": "light"
     },
     "output_type": "display_data"
    }
   ],
   "source": [
    "created_geodataframe = read_by_group(ncdf_output_path, \n",
    "                                     \"test_vector_group\")\n",
    "\n",
    "ax = created_geodataframe.plot(column='TileID', \n",
    "                               cmap=cmap, \n",
    "                               figsize=(10, 10))\n",
    "ax.set_axis_off()"
   ]
  },
  {
   "cell_type": "code",
   "execution_count": 21,
   "metadata": {},
   "outputs": [
    {
     "data": {
      "text/html": [
       "<div>\n",
       "<style scoped>\n",
       "    .dataframe tbody tr th:only-of-type {\n",
       "        vertical-align: middle;\n",
       "    }\n",
       "\n",
       "    .dataframe tbody tr th {\n",
       "        vertical-align: top;\n",
       "    }\n",
       "\n",
       "    .dataframe thead th {\n",
       "        text-align: right;\n",
       "    }\n",
       "</style>\n",
       "<table border=\"1\" class=\"dataframe\">\n",
       "  <thead>\n",
       "    <tr style=\"text-align: right;\">\n",
       "      <th></th>\n",
       "      <th>left</th>\n",
       "      <th>top</th>\n",
       "      <th>right</th>\n",
       "      <th>bottom</th>\n",
       "      <th>TileID</th>\n",
       "      <th>geometry</th>\n",
       "      <th>FID</th>\n",
       "    </tr>\n",
       "  </thead>\n",
       "  <tbody>\n",
       "    <tr>\n",
       "      <th>1</th>\n",
       "      <td>98900.0</td>\n",
       "      <td>547300.0</td>\n",
       "      <td>188900.0</td>\n",
       "      <td>457300.0</td>\n",
       "      <td>E09N45</td>\n",
       "      <td>POLYGON ((98900.000 547300.000, 188900.000 547...</td>\n",
       "      <td>-9223372036854775806</td>\n",
       "    </tr>\n",
       "    <tr>\n",
       "      <th>2</th>\n",
       "      <td>98900.0</td>\n",
       "      <td>457300.0</td>\n",
       "      <td>188900.0</td>\n",
       "      <td>367300.0</td>\n",
       "      <td>E09N36</td>\n",
       "      <td>POLYGON ((98900.000 457300.000, 188900.000 457...</td>\n",
       "      <td>-9223372036854775806</td>\n",
       "    </tr>\n",
       "    <tr>\n",
       "      <th>3</th>\n",
       "      <td>98900.0</td>\n",
       "      <td>367300.0</td>\n",
       "      <td>188900.0</td>\n",
       "      <td>277300.0</td>\n",
       "      <td>E09N27</td>\n",
       "      <td>POLYGON ((98900.000 367300.000, 188900.000 367...</td>\n",
       "      <td>-9223372036854775806</td>\n",
       "    </tr>\n",
       "    <tr>\n",
       "      <th>4</th>\n",
       "      <td>98900.0</td>\n",
       "      <td>277300.0</td>\n",
       "      <td>188900.0</td>\n",
       "      <td>187300.0</td>\n",
       "      <td>E09N18</td>\n",
       "      <td>POLYGON ((98900.000 277300.000, 188900.000 277...</td>\n",
       "      <td>-9223372036854775806</td>\n",
       "    </tr>\n",
       "    <tr>\n",
       "      <th>5</th>\n",
       "      <td>188900.0</td>\n",
       "      <td>637300.0</td>\n",
       "      <td>278900.0</td>\n",
       "      <td>547300.0</td>\n",
       "      <td>E18N54</td>\n",
       "      <td>POLYGON ((188900.000 637300.000, 278900.000 63...</td>\n",
       "      <td>-9223372036854775806</td>\n",
       "    </tr>\n",
       "    <tr>\n",
       "      <th>6</th>\n",
       "      <td>188900.0</td>\n",
       "      <td>547300.0</td>\n",
       "      <td>278900.0</td>\n",
       "      <td>457300.0</td>\n",
       "      <td>E18N45</td>\n",
       "      <td>POLYGON ((188900.000 547300.000, 278900.000 54...</td>\n",
       "      <td>-9223372036854775806</td>\n",
       "    </tr>\n",
       "    <tr>\n",
       "      <th>7</th>\n",
       "      <td>188900.0</td>\n",
       "      <td>457300.0</td>\n",
       "      <td>278900.0</td>\n",
       "      <td>367300.0</td>\n",
       "      <td>E18N36</td>\n",
       "      <td>POLYGON ((188900.000 457300.000, 278900.000 45...</td>\n",
       "      <td>-9223372036854775806</td>\n",
       "    </tr>\n",
       "    <tr>\n",
       "      <th>8</th>\n",
       "      <td>188900.0</td>\n",
       "      <td>367300.0</td>\n",
       "      <td>278900.0</td>\n",
       "      <td>277300.0</td>\n",
       "      <td>E18N27</td>\n",
       "      <td>POLYGON ((188900.000 367300.000, 278900.000 36...</td>\n",
       "      <td>-9223372036854775806</td>\n",
       "    </tr>\n",
       "    <tr>\n",
       "      <th>9</th>\n",
       "      <td>188900.0</td>\n",
       "      <td>277300.0</td>\n",
       "      <td>278900.0</td>\n",
       "      <td>187300.0</td>\n",
       "      <td>E18N18</td>\n",
       "      <td>POLYGON ((188900.000 277300.000, 278900.000 27...</td>\n",
       "      <td>-9223372036854775806</td>\n",
       "    </tr>\n",
       "    <tr>\n",
       "      <th>10</th>\n",
       "      <td>278900.0</td>\n",
       "      <td>637300.0</td>\n",
       "      <td>368900.0</td>\n",
       "      <td>547300.0</td>\n",
       "      <td>E27N54</td>\n",
       "      <td>POLYGON ((278900.000 637300.000, 368900.000 63...</td>\n",
       "      <td>-9223372036854775806</td>\n",
       "    </tr>\n",
       "    <tr>\n",
       "      <th>11</th>\n",
       "      <td>278900.0</td>\n",
       "      <td>547300.0</td>\n",
       "      <td>368900.0</td>\n",
       "      <td>457300.0</td>\n",
       "      <td>E27N45</td>\n",
       "      <td>POLYGON ((278900.000 547300.000, 368900.000 54...</td>\n",
       "      <td>-9223372036854775806</td>\n",
       "    </tr>\n",
       "    <tr>\n",
       "      <th>12</th>\n",
       "      <td>278900.0</td>\n",
       "      <td>457300.0</td>\n",
       "      <td>368900.0</td>\n",
       "      <td>367300.0</td>\n",
       "      <td>E27N36</td>\n",
       "      <td>POLYGON ((278900.000 457300.000, 368900.000 45...</td>\n",
       "      <td>2</td>\n",
       "    </tr>\n",
       "    <tr>\n",
       "      <th>13</th>\n",
       "      <td>278900.0</td>\n",
       "      <td>367300.0</td>\n",
       "      <td>368900.0</td>\n",
       "      <td>277300.0</td>\n",
       "      <td>E27N27</td>\n",
       "      <td>POLYGON ((278900.000 367300.000, 368900.000 36...</td>\n",
       "      <td>-9223372036854775806</td>\n",
       "    </tr>\n",
       "    <tr>\n",
       "      <th>14</th>\n",
       "      <td>278900.0</td>\n",
       "      <td>277300.0</td>\n",
       "      <td>368900.0</td>\n",
       "      <td>187300.0</td>\n",
       "      <td>E27N18</td>\n",
       "      <td>POLYGON ((278900.000 277300.000, 368900.000 27...</td>\n",
       "      <td>-9223372036854775806</td>\n",
       "    </tr>\n",
       "    <tr>\n",
       "      <th>15</th>\n",
       "      <td>368900.0</td>\n",
       "      <td>547300.0</td>\n",
       "      <td>458900.0</td>\n",
       "      <td>457300.0</td>\n",
       "      <td>E36N45</td>\n",
       "      <td>POLYGON ((368900.000 547300.000, 458900.000 54...</td>\n",
       "      <td>-9223372036854775806</td>\n",
       "    </tr>\n",
       "    <tr>\n",
       "      <th>16</th>\n",
       "      <td>368900.0</td>\n",
       "      <td>457300.0</td>\n",
       "      <td>458900.0</td>\n",
       "      <td>367300.0</td>\n",
       "      <td>E36N36</td>\n",
       "      <td>POLYGON ((368900.000 457300.000, 458900.000 45...</td>\n",
       "      <td>-9223372036854775806</td>\n",
       "    </tr>\n",
       "    <tr>\n",
       "      <th>17</th>\n",
       "      <td>98900.0</td>\n",
       "      <td>637300.0</td>\n",
       "      <td>188900.0</td>\n",
       "      <td>547300.0</td>\n",
       "      <td>E09N54</td>\n",
       "      <td>POLYGON ((98900.000 637300.000, 188900.000 637...</td>\n",
       "      <td>1</td>\n",
       "    </tr>\n",
       "    <tr>\n",
       "      <th>18</th>\n",
       "      <td>2.0</td>\n",
       "      <td>2.0</td>\n",
       "      <td>2.0</td>\n",
       "      <td>2.0</td>\n",
       "      <td>b</td>\n",
       "      <td>POLYGON ((431792.698 325173.217, 501062.580 25...</td>\n",
       "      <td>4</td>\n",
       "    </tr>\n",
       "  </tbody>\n",
       "</table>\n",
       "</div>"
      ],
      "text/plain": [
       "        left       top     right    bottom  TileID  \\\n",
       "1    98900.0  547300.0  188900.0  457300.0  E09N45   \n",
       "2    98900.0  457300.0  188900.0  367300.0  E09N36   \n",
       "3    98900.0  367300.0  188900.0  277300.0  E09N27   \n",
       "4    98900.0  277300.0  188900.0  187300.0  E09N18   \n",
       "5   188900.0  637300.0  278900.0  547300.0  E18N54   \n",
       "6   188900.0  547300.0  278900.0  457300.0  E18N45   \n",
       "7   188900.0  457300.0  278900.0  367300.0  E18N36   \n",
       "8   188900.0  367300.0  278900.0  277300.0  E18N27   \n",
       "9   188900.0  277300.0  278900.0  187300.0  E18N18   \n",
       "10  278900.0  637300.0  368900.0  547300.0  E27N54   \n",
       "11  278900.0  547300.0  368900.0  457300.0  E27N45   \n",
       "12  278900.0  457300.0  368900.0  367300.0  E27N36   \n",
       "13  278900.0  367300.0  368900.0  277300.0  E27N27   \n",
       "14  278900.0  277300.0  368900.0  187300.0  E27N18   \n",
       "15  368900.0  547300.0  458900.0  457300.0  E36N45   \n",
       "16  368900.0  457300.0  458900.0  367300.0  E36N36   \n",
       "17   98900.0  637300.0  188900.0  547300.0  E09N54   \n",
       "18       2.0       2.0       2.0       2.0       b   \n",
       "\n",
       "                                             geometry                  FID  \n",
       "1   POLYGON ((98900.000 547300.000, 188900.000 547... -9223372036854775806  \n",
       "2   POLYGON ((98900.000 457300.000, 188900.000 457... -9223372036854775806  \n",
       "3   POLYGON ((98900.000 367300.000, 188900.000 367... -9223372036854775806  \n",
       "4   POLYGON ((98900.000 277300.000, 188900.000 277... -9223372036854775806  \n",
       "5   POLYGON ((188900.000 637300.000, 278900.000 63... -9223372036854775806  \n",
       "6   POLYGON ((188900.000 547300.000, 278900.000 54... -9223372036854775806  \n",
       "7   POLYGON ((188900.000 457300.000, 278900.000 45... -9223372036854775806  \n",
       "8   POLYGON ((188900.000 367300.000, 278900.000 36... -9223372036854775806  \n",
       "9   POLYGON ((188900.000 277300.000, 278900.000 27... -9223372036854775806  \n",
       "10  POLYGON ((278900.000 637300.000, 368900.000 63... -9223372036854775806  \n",
       "11  POLYGON ((278900.000 547300.000, 368900.000 54... -9223372036854775806  \n",
       "12  POLYGON ((278900.000 457300.000, 368900.000 45...                    2  \n",
       "13  POLYGON ((278900.000 367300.000, 368900.000 36... -9223372036854775806  \n",
       "14  POLYGON ((278900.000 277300.000, 368900.000 27... -9223372036854775806  \n",
       "15  POLYGON ((368900.000 547300.000, 458900.000 54... -9223372036854775806  \n",
       "16  POLYGON ((368900.000 457300.000, 458900.000 45... -9223372036854775806  \n",
       "17  POLYGON ((98900.000 637300.000, 188900.000 637...                    1  \n",
       "18  POLYGON ((431792.698 325173.217, 501062.580 25...                    4  "
      ]
     },
     "execution_count": 21,
     "metadata": {},
     "output_type": "execute_result"
    }
   ],
   "source": [
    "created_geodataframe"
   ]
  },
  {
   "cell_type": "markdown",
   "metadata": {},
   "source": [
    "We see that already existing features (12 and 17) were updated, while a new feature was added as well.  \n",
    "You might ask yourself, why the most left feature of the update-geodataframe was not added.  \n",
    "When creating a group, the first input defines the dimensions of that group.  \n",
    "While the centroid of the newly added polygon falls within those dimensions, the centroid of the feature that was not added, does not."
   ]
  },
  {
   "cell_type": "markdown",
   "metadata": {},
   "source": [
    "Besides reading an entire group, we can also read by bounds."
   ]
  },
  {
   "cell_type": "code",
   "execution_count": 22,
   "metadata": {},
   "outputs": [
    {
     "data": {
      "image/png": "[encoded data removed]",
      "text/plain": [
       "<Figure size 720x720 with 1 Axes>"
      ]
     },
     "metadata": {
      "needs_background": "light"
     },
     "output_type": "display_data"
    }
   ],
   "source": [
    "f, ax = plt.subplots(figsize=(10, 10))\n",
    "created_geodataframe.plot(column='TileID', \n",
    "                               cmap=cmap, \n",
    "                               figsize=(10, 10),\n",
    "                               ax=ax)\n",
    "\n",
    "polygon_as_geodataframe.boundary.plot(ax=ax)\n",
    "ax.set_axis_off()\n",
    "\n",
    "\n",
    "\n",
    "\n",
    "\n",
    "created_geodataframe = read_by_bounds(ncdf_output_path, \n",
    "                                      Polygon([[171294, 509586],\n",
    "                                              [408599, 513476],\n",
    "                                              [308101, 224301],\n",
    "                                              [132392, 336470]]),\n",
    "                                     relation_to_bounds=\"intersects\")"
   ]
  },
  {
   "cell_type": "code",
   "execution_count": 23,
   "metadata": {},
   "outputs": [
    {
     "data": {
      "image/png": "[encoded data removed]",
      "text/plain": [
       "<Figure size 720x720 with 1 Axes>"
      ]
     },
     "metadata": {
      "needs_background": "light"
     },
     "output_type": "display_data"
    }
   ],
   "source": [
    "ax = created_geodataframe.plot(column='TileID', \n",
    "                               cmap=cmap, \n",
    "                               figsize=(10, 10))\n",
    "\n",
    "ax.set_axis_off()"
   ]
  },
  {
   "cell_type": "code",
   "execution_count": 24,
   "metadata": {},
   "outputs": [
    {
     "data": {
      "text/html": [
       "<div>\n",
       "<style scoped>\n",
       "    .dataframe tbody tr th:only-of-type {\n",
       "        vertical-align: middle;\n",
       "    }\n",
       "\n",
       "    .dataframe tbody tr th {\n",
       "        vertical-align: top;\n",
       "    }\n",
       "\n",
       "    .dataframe thead th {\n",
       "        text-align: right;\n",
       "    }\n",
       "</style>\n",
       "<table border=\"1\" class=\"dataframe\">\n",
       "  <thead>\n",
       "    <tr style=\"text-align: right;\">\n",
       "      <th></th>\n",
       "      <th>left</th>\n",
       "      <th>bottom</th>\n",
       "      <th>TileID</th>\n",
       "      <th>geometry</th>\n",
       "      <th>top</th>\n",
       "      <th>right</th>\n",
       "      <th>FID</th>\n",
       "    </tr>\n",
       "  </thead>\n",
       "  <tbody>\n",
       "    <tr>\n",
       "      <th>1</th>\n",
       "      <td>98900.0</td>\n",
       "      <td>457300.0</td>\n",
       "      <td>E09N45</td>\n",
       "      <td>POLYGON ((98900.000 547300.000, 188900.000 547...</td>\n",
       "      <td>547300.0</td>\n",
       "      <td>188900.0</td>\n",
       "      <td>-9223372036854775806</td>\n",
       "    </tr>\n",
       "    <tr>\n",
       "      <th>2</th>\n",
       "      <td>98900.0</td>\n",
       "      <td>367300.0</td>\n",
       "      <td>E09N36</td>\n",
       "      <td>POLYGON ((98900.000 457300.000, 188900.000 457...</td>\n",
       "      <td>457300.0</td>\n",
       "      <td>188900.0</td>\n",
       "      <td>-9223372036854775806</td>\n",
       "    </tr>\n",
       "    <tr>\n",
       "      <th>3</th>\n",
       "      <td>98900.0</td>\n",
       "      <td>277300.0</td>\n",
       "      <td>E09N27</td>\n",
       "      <td>POLYGON ((98900.000 367300.000, 188900.000 367...</td>\n",
       "      <td>367300.0</td>\n",
       "      <td>188900.0</td>\n",
       "      <td>-9223372036854775806</td>\n",
       "    </tr>\n",
       "    <tr>\n",
       "      <th>6</th>\n",
       "      <td>188900.0</td>\n",
       "      <td>457300.0</td>\n",
       "      <td>E18N45</td>\n",
       "      <td>POLYGON ((188900.000 547300.000, 278900.000 54...</td>\n",
       "      <td>547300.0</td>\n",
       "      <td>278900.0</td>\n",
       "      <td>-9223372036854775806</td>\n",
       "    </tr>\n",
       "    <tr>\n",
       "      <th>7</th>\n",
       "      <td>188900.0</td>\n",
       "      <td>367300.0</td>\n",
       "      <td>E18N36</td>\n",
       "      <td>POLYGON ((188900.000 457300.000, 278900.000 45...</td>\n",
       "      <td>457300.0</td>\n",
       "      <td>278900.0</td>\n",
       "      <td>-9223372036854775806</td>\n",
       "    </tr>\n",
       "    <tr>\n",
       "      <th>8</th>\n",
       "      <td>188900.0</td>\n",
       "      <td>277300.0</td>\n",
       "      <td>E18N27</td>\n",
       "      <td>POLYGON ((188900.000 367300.000, 278900.000 36...</td>\n",
       "      <td>367300.0</td>\n",
       "      <td>278900.0</td>\n",
       "      <td>-9223372036854775806</td>\n",
       "    </tr>\n",
       "    <tr>\n",
       "      <th>9</th>\n",
       "      <td>188900.0</td>\n",
       "      <td>187300.0</td>\n",
       "      <td>E18N18</td>\n",
       "      <td>POLYGON ((188900.000 277300.000, 278900.000 27...</td>\n",
       "      <td>277300.0</td>\n",
       "      <td>278900.0</td>\n",
       "      <td>-9223372036854775806</td>\n",
       "    </tr>\n",
       "    <tr>\n",
       "      <th>11</th>\n",
       "      <td>278900.0</td>\n",
       "      <td>457300.0</td>\n",
       "      <td>E27N45</td>\n",
       "      <td>POLYGON ((278900.000 547300.000, 368900.000 54...</td>\n",
       "      <td>547300.0</td>\n",
       "      <td>368900.0</td>\n",
       "      <td>-9223372036854775806</td>\n",
       "    </tr>\n",
       "    <tr>\n",
       "      <th>12</th>\n",
       "      <td>278900.0</td>\n",
       "      <td>367300.0</td>\n",
       "      <td>E27N36</td>\n",
       "      <td>POLYGON ((278900.000 457300.000, 368900.000 45...</td>\n",
       "      <td>457300.0</td>\n",
       "      <td>368900.0</td>\n",
       "      <td>2</td>\n",
       "    </tr>\n",
       "    <tr>\n",
       "      <th>13</th>\n",
       "      <td>278900.0</td>\n",
       "      <td>277300.0</td>\n",
       "      <td>E27N27</td>\n",
       "      <td>POLYGON ((278900.000 367300.000, 368900.000 36...</td>\n",
       "      <td>367300.0</td>\n",
       "      <td>368900.0</td>\n",
       "      <td>-9223372036854775806</td>\n",
       "    </tr>\n",
       "    <tr>\n",
       "      <th>14</th>\n",
       "      <td>278900.0</td>\n",
       "      <td>187300.0</td>\n",
       "      <td>E27N18</td>\n",
       "      <td>POLYGON ((278900.000 277300.000, 368900.000 27...</td>\n",
       "      <td>277300.0</td>\n",
       "      <td>368900.0</td>\n",
       "      <td>-9223372036854775806</td>\n",
       "    </tr>\n",
       "    <tr>\n",
       "      <th>15</th>\n",
       "      <td>368900.0</td>\n",
       "      <td>457300.0</td>\n",
       "      <td>E36N45</td>\n",
       "      <td>POLYGON ((368900.000 547300.000, 458900.000 54...</td>\n",
       "      <td>547300.0</td>\n",
       "      <td>458900.0</td>\n",
       "      <td>-9223372036854775806</td>\n",
       "    </tr>\n",
       "    <tr>\n",
       "      <th>16</th>\n",
       "      <td>368900.0</td>\n",
       "      <td>367300.0</td>\n",
       "      <td>E36N36</td>\n",
       "      <td>POLYGON ((368900.000 457300.000, 458900.000 45...</td>\n",
       "      <td>457300.0</td>\n",
       "      <td>458900.0</td>\n",
       "      <td>-9223372036854775806</td>\n",
       "    </tr>\n",
       "  </tbody>\n",
       "</table>\n",
       "</div>"
      ],
      "text/plain": [
       "        left    bottom  TileID  \\\n",
       "1    98900.0  457300.0  E09N45   \n",
       "2    98900.0  367300.0  E09N36   \n",
       "3    98900.0  277300.0  E09N27   \n",
       "6   188900.0  457300.0  E18N45   \n",
       "7   188900.0  367300.0  E18N36   \n",
       "8   188900.0  277300.0  E18N27   \n",
       "9   188900.0  187300.0  E18N18   \n",
       "11  278900.0  457300.0  E27N45   \n",
       "12  278900.0  367300.0  E27N36   \n",
       "13  278900.0  277300.0  E27N27   \n",
       "14  278900.0  187300.0  E27N18   \n",
       "15  368900.0  457300.0  E36N45   \n",
       "16  368900.0  367300.0  E36N36   \n",
       "\n",
       "                                             geometry       top     right  \\\n",
       "1   POLYGON ((98900.000 547300.000, 188900.000 547...  547300.0  188900.0   \n",
       "2   POLYGON ((98900.000 457300.000, 188900.000 457...  457300.0  188900.0   \n",
       "3   POLYGON ((98900.000 367300.000, 188900.000 367...  367300.0  188900.0   \n",
       "6   POLYGON ((188900.000 547300.000, 278900.000 54...  547300.0  278900.0   \n",
       "7   POLYGON ((188900.000 457300.000, 278900.000 45...  457300.0  278900.0   \n",
       "8   POLYGON ((188900.000 367300.000, 278900.000 36...  367300.0  278900.0   \n",
       "9   POLYGON ((188900.000 277300.000, 278900.000 27...  277300.0  278900.0   \n",
       "11  POLYGON ((278900.000 547300.000, 368900.000 54...  547300.0  368900.0   \n",
       "12  POLYGON ((278900.000 457300.000, 368900.000 45...  457300.0  368900.0   \n",
       "13  POLYGON ((278900.000 367300.000, 368900.000 36...  367300.0  368900.0   \n",
       "14  POLYGON ((278900.000 277300.000, 368900.000 27...  277300.0  368900.0   \n",
       "15  POLYGON ((368900.000 547300.000, 458900.000 54...  547300.0  458900.0   \n",
       "16  POLYGON ((368900.000 457300.000, 458900.000 45...  457300.0  458900.0   \n",
       "\n",
       "                    FID  \n",
       "1  -9223372036854775806  \n",
       "2  -9223372036854775806  \n",
       "3  -9223372036854775806  \n",
       "6  -9223372036854775806  \n",
       "7  -9223372036854775806  \n",
       "8  -9223372036854775806  \n",
       "9  -9223372036854775806  \n",
       "11 -9223372036854775806  \n",
       "12                    2  \n",
       "13 -9223372036854775806  \n",
       "14 -9223372036854775806  \n",
       "15 -9223372036854775806  \n",
       "16 -9223372036854775806  "
      ]
     },
     "execution_count": 24,
     "metadata": {},
     "output_type": "execute_result"
    }
   ],
   "source": [
    "created_geodataframe"
   ]
  },
  {
   "cell_type": "markdown",
   "metadata": {},
   "source": [
    "Finally, we can also read all features within a netCDF file that meet certain requirements using a query.  \n",
    "Note that a geometry cannot be queried. Use ``read_by_bounds`` therefore instead.  \n",
    "In the following example, we want to read all features, who's attribute \"FID\" is bigger than 0."
   ]
  },
  {
   "cell_type": "code",
   "execution_count": 25,
   "metadata": {},
   "outputs": [
    {
     "data": {
      "text/html": [
       "<div>\n",
       "<style scoped>\n",
       "    .dataframe tbody tr th:only-of-type {\n",
       "        vertical-align: middle;\n",
       "    }\n",
       "\n",
       "    .dataframe tbody tr th {\n",
       "        vertical-align: top;\n",
       "    }\n",
       "\n",
       "    .dataframe thead th {\n",
       "        text-align: right;\n",
       "    }\n",
       "</style>\n",
       "<table border=\"1\" class=\"dataframe\">\n",
       "  <thead>\n",
       "    <tr style=\"text-align: right;\">\n",
       "      <th></th>\n",
       "      <th>left</th>\n",
       "      <th>bottom</th>\n",
       "      <th>TileID</th>\n",
       "      <th>geometry</th>\n",
       "      <th>top</th>\n",
       "      <th>right</th>\n",
       "      <th>FID</th>\n",
       "    </tr>\n",
       "  </thead>\n",
       "  <tbody>\n",
       "    <tr>\n",
       "      <th>0</th>\n",
       "      <td>278900.0</td>\n",
       "      <td>367300.0</td>\n",
       "      <td>E27N36</td>\n",
       "      <td>POLYGON ((278900.000 457300.000, 368900.000 45...</td>\n",
       "      <td>457300.0</td>\n",
       "      <td>368900.0</td>\n",
       "      <td>2</td>\n",
       "    </tr>\n",
       "    <tr>\n",
       "      <th>1</th>\n",
       "      <td>2.0</td>\n",
       "      <td>2.0</td>\n",
       "      <td>b</td>\n",
       "      <td>POLYGON ((431792.698 325173.217, 501062.580 25...</td>\n",
       "      <td>2.0</td>\n",
       "      <td>2.0</td>\n",
       "      <td>4</td>\n",
       "    </tr>\n",
       "  </tbody>\n",
       "</table>\n",
       "</div>"
      ],
      "text/plain": [
       "       left    bottom  TileID  \\\n",
       "0  278900.0  367300.0  E27N36   \n",
       "1       2.0       2.0       b   \n",
       "\n",
       "                                            geometry       top     right  FID  \n",
       "0  POLYGON ((278900.000 457300.000, 368900.000 45...  457300.0  368900.0    2  \n",
       "1  POLYGON ((431792.698 325173.217, 501062.580 25...       2.0       2.0    4  "
      ]
     },
     "execution_count": 25,
     "metadata": {},
     "output_type": "execute_result"
    }
   ],
   "source": [
    "created_geodataframe =  read_by_attribute(ncdf_output_path, \n",
    "                                          \"FID\", \n",
    "                                          2,\n",
    "                                          query='>=')\n",
    "created_geodataframe"
   ]
  },
  {
   "cell_type": "markdown",
   "metadata": {},
   "source": [
    "## Raster"
   ]
  },
  {
   "cell_type": "markdown",
   "metadata": {},
   "source": [
    "The other part of the GeoVille Storage Gate handles the reading and writing of raster data.  \n",
    "Let's read an example raster file first."
   ]
  },
  {
   "cell_type": "code",
   "execution_count": 26,
   "metadata": {},
   "outputs": [],
   "source": [
    "import rasterio as rio\n",
    "import matplotlib.pyplot as plt\n",
    "from geoville_storage_gate.raster import *"
   ]
  },
  {
   "cell_type": "code",
   "execution_count": 27,
   "metadata": {},
   "outputs": [],
   "source": [
    "# test variables\n",
    "with rio.open(\"/home/schmid/Repos/geoville_ms_storage_gate_modul/tests/data/test_raster.tif\") as src:\n",
    "    array = src.read()\n",
    "    profile = src.profile"
   ]
  },
  {
   "cell_type": "markdown",
   "metadata": {},
   "source": [
    "Similar to the vector functions, before the netCDF or the group you want to create exists, we need to create it with ``create_by_group``."
   ]
  },
  {
   "cell_type": "code",
   "execution_count": 28,
   "metadata": {},
   "outputs": [],
   "source": [
    "if os.path.exists(ncdf_output_path):\n",
    "    os.remove(ncdf_output_path)\n",
    "    \n",
    "create_by_group(array, \n",
    "                profile, \n",
    "                ncdf_output_path, \n",
    "                \"test_raster_group\", \n",
    "                \"2019-05-01\",\n",
    "                \"2019-05-01\", \n",
    "                array_variable=\"raster\")"
   ]
  },
  {
   "cell_type": "markdown",
   "metadata": {},
   "source": [
    "Let's get the raster and its metadata (geotransform, crs, etc.) by reading the previously created group like follows:"
   ]
  },
  {
   "cell_type": "code",
   "execution_count": 29,
   "metadata": {},
   "outputs": [
    {
     "data": {
      "image/png": "[encoded data removed]",
      "text/plain": [
       "<Figure size 720x720 with 1 Axes>"
      ]
     },
     "metadata": {
      "needs_background": "light"
     },
     "output_type": "display_data"
    }
   ],
   "source": [
    "written_array, written_profile = read_by_group(ncdf_output_path, \n",
    "                                                  \"2019-05-01\",\n",
    "                                                  \"2019-05-01\", \n",
    "                                                  \"test_raster_group\",\n",
    "                                                  array_variable=\"raster\")\n",
    "\n",
    "plt.figure(figsize = (10,10))\n",
    "plt.imshow(written_array[0])\n",
    "plt.axis('off')\n",
    "plt.show()"
   ]
  },
  {
   "cell_type": "markdown",
   "metadata": {},
   "source": [
    "We can also upsert the group. If the timestamp already exists, the raster will get replaced, otherwise it gets added.  \n",
    "In the following case, the group contains 2019-05-01 but not 2019-05-02 yet, so the raster will get added."
   ]
  },
  {
   "cell_type": "code",
   "execution_count": 30,
   "metadata": {},
   "outputs": [
    {
     "name": "stderr",
     "output_type": "stream",
     "text": [
      "/home/schmid/Repos/geoville_ms_storage_gate_modul/geoville_storage_gate/raster.py:171: RuntimeWarning: /home/schmid/Desktop/vector_example.nc already exists. Please use the function 'upsert_by_group'\n",
      "  \"function 'upsert_by_group'\".format(ncdf_path), RuntimeWarning)\n"
     ]
    }
   ],
   "source": [
    "create_by_group(array, \n",
    "                profile, \n",
    "                ncdf_output_path, \n",
    "                \"test_raster_group2\", \n",
    "                \"2019-05-01\",\n",
    "                \"2019-05-01\", \n",
    "                array_variable=\"raster\")"
   ]
  },
  {
   "cell_type": "code",
   "execution_count": 31,
   "metadata": {},
   "outputs": [],
   "source": [
    "upsert_by_group(array, \n",
    "                profile, \n",
    "                ncdf_output_path, \n",
    "                \"test_raster_group\", \n",
    "                \"2019-05-02\",\n",
    "                \"2019-05-02\", \n",
    "                array_variable=\"raster\")"
   ]
  },
  {
   "cell_type": "markdown",
   "metadata": {},
   "source": [
    "Now we can read both dates and get a 2-layer result."
   ]
  },
  {
   "cell_type": "code",
   "execution_count": 32,
   "metadata": {},
   "outputs": [
    {
     "name": "stdout",
     "output_type": "stream",
     "text": [
      "(2, 1325, 1683)\n"
     ]
    },
    {
     "data": {
      "image/png": "[encoded data removed]",
      "text/plain": [
       "<Figure size 720x720 with 1 Axes>"
      ]
     },
     "metadata": {
      "needs_background": "light"
     },
     "output_type": "display_data"
    }
   ],
   "source": [
    "written_array, written_profile = read_by_group(ncdf_output_path, \n",
    "                                                  \"2019-05-01\", \n",
    "                                                  \"2019-05-02\", \n",
    "                                                  \"test_raster_group\",\n",
    "                                                  array_variable=\"raster\")\n",
    "\n",
    "print(written_array.shape)\n",
    "\n",
    "plt.figure(figsize = (10,10))\n",
    "plt.imshow(written_array[0])\n",
    "plt.axis('off')\n",
    "plt.show()"
   ]
  },
  {
   "cell_type": "markdown",
   "metadata": {},
   "source": [
    "Now we update the first layer, the product of the date 2019-05-01, but only within given bounds.  "
   ]
  },
  {
   "cell_type": "code",
   "execution_count": 33,
   "metadata": {},
   "outputs": [],
   "source": [
    "update_by_bounds((array * 0) + 99,\n",
    "                 profile,\n",
    "                 ncdf_output_path,\n",
    "                 Polygon([[661697.166128716, 4320223.863762978],\n",
    "                          [660697.2823883237, 4320130.124662316],\n",
    "                          [660603.5432876621, 4321296.655692774],\n",
    "                          [661738.8279512323, 4321234.162958999],\n",
    "                          [661697.166128716, 4320223.863762978]]),\n",
    "                 \"2019-05-01\",\n",
    "                 \"2019-05-01\",\n",
    "                 array_variable=\"raster\")"
   ]
  },
  {
   "cell_type": "markdown",
   "metadata": {},
   "source": [
    "Let's read the entire group at date 2019-05-01 and see if we can see the updated patch with 99 values."
   ]
  },
  {
   "cell_type": "code",
   "execution_count": 34,
   "metadata": {},
   "outputs": [
    {
     "data": {
      "image/png": "[encoded data removed]",
      "text/plain": [
       "<Figure size 720x720 with 1 Axes>"
      ]
     },
     "metadata": {
      "needs_background": "light"
     },
     "output_type": "display_data"
    }
   ],
   "source": [
    "written_array, written_profile = read_by_group(ncdf_output_path, \n",
    "                                                  \"2019-05-01\", \n",
    "                                                  \"2019-05-01\", \n",
    "                                                  \"test_raster_group\",\n",
    "                                                  array_variable=\"raster\")\n",
    "\n",
    "with rio.open(\"/home/schmid/Desktop/testraster.tif\", \"w\", **written_profile) as dst:\n",
    "    dst.write(written_array[0], 1)\n",
    "\n",
    "\n",
    "plt.figure(figsize = (10,10))\n",
    "plt.imshow(written_array[0])\n",
    "plt.axis('off')\n",
    "plt.show()"
   ]
  },
  {
   "cell_type": "markdown",
   "metadata": {},
   "source": [
    "Moreover, we can also just read the raster of a specific date within the given bounds."
   ]
  },
  {
   "cell_type": "code",
   "execution_count": 35,
   "metadata": {},
   "outputs": [
    {
     "name": "stderr",
     "output_type": "stream",
     "text": [
      "/home/schmid/Repos/geoville_ms_storage_gate_modul/geoville_storage_gate/raster.py:134: RuntimeWarning: All-NaN axis encountered\n",
      "  ncdf_array = np.nanmax(ncdf_arrays, axis=0)\n"
     ]
    },
    {
     "data": {
      "image/png": "[encoded data removed]",
      "text/plain": [
       "<Figure size 720x720 with 1 Axes>"
      ]
     },
     "metadata": {
      "needs_background": "light"
     },
     "output_type": "display_data"
    }
   ],
   "source": [
    "updated_array, updated_profile = read_by_bounds(\n",
    "                                      ncdf_output_path,\n",
    "                                      \"2019-05-01\",\n",
    "                                      \"2019-05-01\",\n",
    "                                      Polygon([[661697.166128716, 4320223.863762978],\n",
    "                                              [660697.2823883237, 4320130.124662316],\n",
    "                                              [660603.5432876621, 4321296.655692774],\n",
    "                                              [661738.8279512323, 4321234.162958999],\n",
    "                                              [661697.166128716, 4320223.863762978]]),\n",
    "                                      array_variable=\"raster\")\n",
    "\n",
    "\n",
    "plt.figure(figsize = (10,10))\n",
    "plt.imshow(updated_array[0])\n",
    "plt.axis('off')\n",
    "plt.show()"
   ]
  }
 ],
 "metadata": {
  "kernelspec": {
   "display_name": "Python 3",
   "language": "python",
   "name": "python3"
  },
  "language_info": {
   "codemirror_mode": {
    "name": "ipython",
    "version": 3
   },
   "file_extension": ".py",
   "mimetype": "text/x-python",
   "name": "python",
   "nbconvert_exporter": "python",
   "pygments_lexer": "ipython3",
   "version": "3.7.6"
  }
 },
 "nbformat": 4,
 "nbformat_minor": 4
}
